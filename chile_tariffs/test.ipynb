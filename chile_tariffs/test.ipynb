{
 "cells": [
  {
   "cell_type": "code",
   "execution_count": 45,
   "metadata": {},
   "outputs": [],
   "source": [
    "import pandas as pd\n",
    "import numpy as np"
   ]
  },
  {
   "cell_type": "code",
   "execution_count": 20,
   "metadata": {},
   "outputs": [],
   "source": [
    "df2= pd.read_csv('/Users/dguiraldes/Documents/ISCI/intro_smart_meters/SML-dataset/halfhourly_dataset/halfhourly_dataset/block_0.csv')"
   ]
  },
  {
   "cell_type": "code",
   "execution_count": 21,
   "metadata": {},
   "outputs": [],
   "source": [
    "data=df2[(df2['LCLid']=='MAC000002') & (df2['tstp']>='2013-01-01') & (df2['tstp']<'2014-01-01')].reset_index()[['tstp','energy(kWh/hh)']]"
   ]
  },
  {
   "cell_type": "code",
   "execution_count": 36,
   "metadata": {},
   "outputs": [],
   "source": [
    "data['energy(kWh/hh)']=data['energy(kWh/hh)'].astype('float')"
   ]
  },
  {
   "cell_type": "code",
   "execution_count": 37,
   "metadata": {},
   "outputs": [],
   "source": [
    "data['tstp']=pd.to_datetime(data['tstp'])"
   ]
  },
  {
   "cell_type": "code",
   "execution_count": 39,
   "metadata": {},
   "outputs": [],
   "source": [
    "data['date']=data['tstp'].dt.date.apply(lambda dt: dt.replace(day=1))"
   ]
  },
  {
   "cell_type": "code",
   "execution_count": 42,
   "metadata": {},
   "outputs": [],
   "source": [
    "monthly_data=data.groupby(['date']).sum().reset_index()"
   ]
  },
  {
   "cell_type": "code",
   "execution_count": 44,
   "metadata": {},
   "outputs": [
    {
     "data": {
      "text/plain": [
       "0     359.872000\n",
       "1     381.622000\n",
       "2     479.684000\n",
       "3     362.588001\n",
       "4     303.894000\n",
       "5     299.931000\n",
       "6     271.151000\n",
       "7     269.891000\n",
       "8     321.512000\n",
       "9     378.171000\n",
       "10    409.862000\n",
       "11    376.470000\n",
       "Name: energy(kWh/hh), dtype: float64"
      ]
     },
     "execution_count": 44,
     "metadata": {},
     "output_type": "execute_result"
    }
   ],
   "source": [
    "monthly_data['energy(kWh/hh)']"
   ]
  },
  {
   "cell_type": "code",
   "execution_count": 49,
   "metadata": {},
   "outputs": [],
   "source": [
    "params={\n",
    "    'cfm': np.ones(12)*684.730,\n",
    "    'csp': np.ones(12)*0.508,\n",
    "    'tr':np.ones(12)*12.784,\n",
    "    'en':np.ones(12)*78.911,\n",
    "    'pw':np.ones(12)*15.676,\n",
    "    'bpw':np.ones(12)*18.326, \n",
    "    'pw_win':np.ones(12)*31.353,\n",
    "    'bpw_win':np.ones(12)*36.583\n",
    "}"
   ]
  },
  {
   "cell_type": "code",
   "execution_count": 68,
   "metadata": {},
   "outputs": [],
   "source": [
    "out_df=monthly_data.copy()\n",
    "for col in ['csp', 'tr', 'en', 'pw', 'bpw']:\n",
    "    out_df[col]=out_df['energy(kWh/hh)']*params[col]\n",
    "out_df['cfm']=params['cfm']\n"
   ]
  },
  {
   "cell_type": "code",
   "execution_count": 69,
   "metadata": {},
   "outputs": [],
   "source": [
    "out_df['Total']=out_df[['cfm', 'csp', 'tr', 'en', 'pw', 'bpw']].sum(axis=1)"
   ]
  },
  {
   "cell_type": "code",
   "execution_count": 71,
   "metadata": {},
   "outputs": [],
   "source": [
    "def winter_split(energy,limit):\n",
    "    winter_energy=max(0,energy-limit)\n",
    "    normal_energy= energy if winter_energy==0 else limit"
   ]
  },
  {
   "cell_type": "code",
   "execution_count": 70,
   "metadata": {},
   "outputs": [
    {
     "data": {
      "text/html": [
       "<div>\n",
       "<style scoped>\n",
       "    .dataframe tbody tr th:only-of-type {\n",
       "        vertical-align: middle;\n",
       "    }\n",
       "\n",
       "    .dataframe tbody tr th {\n",
       "        vertical-align: top;\n",
       "    }\n",
       "\n",
       "    .dataframe thead th {\n",
       "        text-align: right;\n",
       "    }\n",
       "</style>\n",
       "<table border=\"1\" class=\"dataframe\">\n",
       "  <thead>\n",
       "    <tr style=\"text-align: right;\">\n",
       "      <th></th>\n",
       "      <th>date</th>\n",
       "      <th>energy(kWh/hh)</th>\n",
       "      <th>csp</th>\n",
       "      <th>tr</th>\n",
       "      <th>en</th>\n",
       "      <th>pw</th>\n",
       "      <th>bpw</th>\n",
       "      <th>cfm</th>\n",
       "      <th>Total</th>\n",
       "    </tr>\n",
       "  </thead>\n",
       "  <tbody>\n",
       "    <tr>\n",
       "      <th>0</th>\n",
       "      <td>2013-01-01</td>\n",
       "      <td>359.872000</td>\n",
       "      <td>182.814976</td>\n",
       "      <td>4600.603649</td>\n",
       "      <td>28397.859400</td>\n",
       "      <td>5641.353474</td>\n",
       "      <td>6595.014274</td>\n",
       "      <td>684.73</td>\n",
       "      <td>46102.375773</td>\n",
       "    </tr>\n",
       "    <tr>\n",
       "      <th>1</th>\n",
       "      <td>2013-02-01</td>\n",
       "      <td>381.622000</td>\n",
       "      <td>193.863976</td>\n",
       "      <td>4878.655652</td>\n",
       "      <td>30114.173666</td>\n",
       "      <td>5982.306477</td>\n",
       "      <td>6993.604777</td>\n",
       "      <td>684.73</td>\n",
       "      <td>48847.334548</td>\n",
       "    </tr>\n",
       "    <tr>\n",
       "      <th>2</th>\n",
       "      <td>2013-03-01</td>\n",
       "      <td>479.684000</td>\n",
       "      <td>243.679472</td>\n",
       "      <td>6132.280255</td>\n",
       "      <td>37852.344116</td>\n",
       "      <td>7519.526382</td>\n",
       "      <td>8790.688982</td>\n",
       "      <td>684.73</td>\n",
       "      <td>61223.249207</td>\n",
       "    </tr>\n",
       "    <tr>\n",
       "      <th>3</th>\n",
       "      <td>2013-04-01</td>\n",
       "      <td>362.588001</td>\n",
       "      <td>184.194704</td>\n",
       "      <td>4635.324998</td>\n",
       "      <td>28612.181707</td>\n",
       "      <td>5683.929496</td>\n",
       "      <td>6644.787697</td>\n",
       "      <td>684.73</td>\n",
       "      <td>46445.148603</td>\n",
       "    </tr>\n",
       "    <tr>\n",
       "      <th>4</th>\n",
       "      <td>2013-05-01</td>\n",
       "      <td>303.894000</td>\n",
       "      <td>154.378152</td>\n",
       "      <td>3884.980897</td>\n",
       "      <td>23980.579442</td>\n",
       "      <td>4763.842346</td>\n",
       "      <td>5569.161446</td>\n",
       "      <td>684.73</td>\n",
       "      <td>39037.672283</td>\n",
       "    </tr>\n",
       "    <tr>\n",
       "      <th>5</th>\n",
       "      <td>2013-06-01</td>\n",
       "      <td>299.931000</td>\n",
       "      <td>152.364948</td>\n",
       "      <td>3834.317904</td>\n",
       "      <td>23667.855141</td>\n",
       "      <td>4701.718356</td>\n",
       "      <td>5496.535506</td>\n",
       "      <td>684.73</td>\n",
       "      <td>38537.521855</td>\n",
       "    </tr>\n",
       "    <tr>\n",
       "      <th>6</th>\n",
       "      <td>2013-07-01</td>\n",
       "      <td>271.151000</td>\n",
       "      <td>137.744708</td>\n",
       "      <td>3466.394383</td>\n",
       "      <td>21396.796553</td>\n",
       "      <td>4250.563074</td>\n",
       "      <td>4969.113224</td>\n",
       "      <td>684.73</td>\n",
       "      <td>34905.341942</td>\n",
       "    </tr>\n",
       "    <tr>\n",
       "      <th>7</th>\n",
       "      <td>2013-08-01</td>\n",
       "      <td>269.891000</td>\n",
       "      <td>137.104628</td>\n",
       "      <td>3450.286543</td>\n",
       "      <td>21297.368693</td>\n",
       "      <td>4230.811314</td>\n",
       "      <td>4946.022464</td>\n",
       "      <td>684.73</td>\n",
       "      <td>34746.323642</td>\n",
       "    </tr>\n",
       "    <tr>\n",
       "      <th>8</th>\n",
       "      <td>2013-09-01</td>\n",
       "      <td>321.512000</td>\n",
       "      <td>163.328096</td>\n",
       "      <td>4110.209409</td>\n",
       "      <td>25370.833440</td>\n",
       "      <td>5040.022114</td>\n",
       "      <td>5892.028914</td>\n",
       "      <td>684.73</td>\n",
       "      <td>41261.151973</td>\n",
       "    </tr>\n",
       "    <tr>\n",
       "      <th>9</th>\n",
       "      <td>2013-10-01</td>\n",
       "      <td>378.171000</td>\n",
       "      <td>192.110868</td>\n",
       "      <td>4834.538060</td>\n",
       "      <td>29841.851757</td>\n",
       "      <td>5928.208591</td>\n",
       "      <td>6930.361741</td>\n",
       "      <td>684.73</td>\n",
       "      <td>48411.801017</td>\n",
       "    </tr>\n",
       "    <tr>\n",
       "      <th>10</th>\n",
       "      <td>2013-11-01</td>\n",
       "      <td>409.862000</td>\n",
       "      <td>208.209896</td>\n",
       "      <td>5239.675807</td>\n",
       "      <td>32342.620274</td>\n",
       "      <td>6424.996710</td>\n",
       "      <td>7511.131010</td>\n",
       "      <td>684.73</td>\n",
       "      <td>52411.363697</td>\n",
       "    </tr>\n",
       "    <tr>\n",
       "      <th>11</th>\n",
       "      <td>2013-12-01</td>\n",
       "      <td>376.470000</td>\n",
       "      <td>191.246760</td>\n",
       "      <td>4812.792480</td>\n",
       "      <td>29707.624170</td>\n",
       "      <td>5901.543720</td>\n",
       "      <td>6899.189220</td>\n",
       "      <td>684.73</td>\n",
       "      <td>48197.126350</td>\n",
       "    </tr>\n",
       "  </tbody>\n",
       "</table>\n",
       "</div>"
      ],
      "text/plain": [
       "          date  energy(kWh/hh)         csp           tr            en  \\\n",
       "0   2013-01-01      359.872000  182.814976  4600.603649  28397.859400   \n",
       "1   2013-02-01      381.622000  193.863976  4878.655652  30114.173666   \n",
       "2   2013-03-01      479.684000  243.679472  6132.280255  37852.344116   \n",
       "3   2013-04-01      362.588001  184.194704  4635.324998  28612.181707   \n",
       "4   2013-05-01      303.894000  154.378152  3884.980897  23980.579442   \n",
       "5   2013-06-01      299.931000  152.364948  3834.317904  23667.855141   \n",
       "6   2013-07-01      271.151000  137.744708  3466.394383  21396.796553   \n",
       "7   2013-08-01      269.891000  137.104628  3450.286543  21297.368693   \n",
       "8   2013-09-01      321.512000  163.328096  4110.209409  25370.833440   \n",
       "9   2013-10-01      378.171000  192.110868  4834.538060  29841.851757   \n",
       "10  2013-11-01      409.862000  208.209896  5239.675807  32342.620274   \n",
       "11  2013-12-01      376.470000  191.246760  4812.792480  29707.624170   \n",
       "\n",
       "             pw          bpw     cfm         Total  \n",
       "0   5641.353474  6595.014274  684.73  46102.375773  \n",
       "1   5982.306477  6993.604777  684.73  48847.334548  \n",
       "2   7519.526382  8790.688982  684.73  61223.249207  \n",
       "3   5683.929496  6644.787697  684.73  46445.148603  \n",
       "4   4763.842346  5569.161446  684.73  39037.672283  \n",
       "5   4701.718356  5496.535506  684.73  38537.521855  \n",
       "6   4250.563074  4969.113224  684.73  34905.341942  \n",
       "7   4230.811314  4946.022464  684.73  34746.323642  \n",
       "8   5040.022114  5892.028914  684.73  41261.151973  \n",
       "9   5928.208591  6930.361741  684.73  48411.801017  \n",
       "10  6424.996710  7511.131010  684.73  52411.363697  \n",
       "11  5901.543720  6899.189220  684.73  48197.126350  "
      ]
     },
     "execution_count": 70,
     "metadata": {},
     "output_type": "execute_result"
    }
   ],
   "source": [
    "out_df"
   ]
  },
  {
   "cell_type": "code",
   "execution_count": null,
   "metadata": {},
   "outputs": [],
   "source": []
  }
 ],
 "metadata": {
  "kernelspec": {
   "display_name": "Python 3.9.12 ('base')",
   "language": "python",
   "name": "python3"
  },
  "language_info": {
   "codemirror_mode": {
    "name": "ipython",
    "version": 3
   },
   "file_extension": ".py",
   "mimetype": "text/x-python",
   "name": "python",
   "nbconvert_exporter": "python",
   "pygments_lexer": "ipython3",
   "version": "3.9.12"
  },
  "orig_nbformat": 4,
  "vscode": {
   "interpreter": {
    "hash": "3b20e6db2ef77b6845bd54d585dde1ccd4a5b3de0476190c760eec548e3b0c4b"
   }
  }
 },
 "nbformat": 4,
 "nbformat_minor": 2
}
