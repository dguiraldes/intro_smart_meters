{
 "cells": [
  {
   "cell_type": "code",
   "execution_count": 1,
   "metadata": {},
   "outputs": [],
   "source": [
    "import pandas as pd\n",
    "import numpy as np\n",
    "import chiTariffs\n",
    "import heapq"
   ]
  },
  {
   "cell_type": "code",
   "execution_count": 48,
   "metadata": {},
   "outputs": [],
   "source": [
    "df2= pd.read_csv('/Users/dguiraldes/Documents/ISCI/intro_smart_meters/SML-dataset/halfhourly_dataset/halfhourly_dataset/block_0.csv')\n",
    "data=df2[(df2['LCLid']=='MAC000002') & (df2['tstp']>='2013-01-01') & (df2['tstp']<'2014-01-01')].reset_index()[['tstp','energy(kWh/hh)']]"
   ]
  },
  {
   "cell_type": "code",
   "execution_count": 49,
   "metadata": {},
   "outputs": [],
   "source": [
    "data['energy(kWh/hh)']=data['energy(kWh/hh)'].astype('float')"
   ]
  },
  {
   "cell_type": "code",
   "execution_count": 50,
   "metadata": {},
   "outputs": [],
   "source": [
    "data['tstp']=pd.to_datetime(data['tstp'])"
   ]
  },
  {
   "cell_type": "code",
   "execution_count": 5,
   "metadata": {},
   "outputs": [],
   "source": [
    "params_BT1={\n",
    "    'cfm': np.ones(12)*684.730,\n",
    "    'csp': np.ones(12)*0.508,\n",
    "    'tr':np.ones(12)*12.784,\n",
    "    'en':np.ones(12)*78.911,\n",
    "    'pw':np.ones(12)*15.676,\n",
    "    'bpw':np.ones(12)*18.326, \n",
    "    'pw_win':np.ones(12)*31.353,\n",
    "    'bpw_win':np.ones(12)*36.583\n",
    "}\n",
    "params_BT4_3={\n",
    "    'cfm': np.ones(12)*796.080,\n",
    "    'csp': np.ones(12)*0.508,\n",
    "    'tr':np.ones(12)*12.784,\n",
    "    'en':np.ones(12)*78.911,\n",
    "    'ppw':np.ones(12)*3487.9,\n",
    "    'ppw_ph':np.ones(12)*10187.410\n",
    "}"
   ]
  },
  {
   "cell_type": "code",
   "execution_count": 102,
   "metadata": {},
   "outputs": [],
   "source": [
    "data2=data.copy()\n",
    "data2['month']=data2['tstp'].dt.date.apply(lambda dt: dt.replace(day=1))\n",
    "data2['power']=data2['energy(kWh/hh)']/2\n",
    "data2.columns=['tstp','energy','month','power']\n",
    "data2['mm']=data2['tstp'].dt.month\n",
    "data2['ph_months']=data2['mm'].between(4,9)\n",
    "data2['ph']=((data2['tstp'].dt.hour.between(18,22)) & (data2['ph_months']))"
   ]
  },
  {
   "cell_type": "code",
   "execution_count": 103,
   "metadata": {},
   "outputs": [],
   "source": [
    "ph_filter=(data2['ph']) & (data2['ph_months'])\n",
    "ppw_ph=data2[ph_filter].groupby('month')['power'].max().apply(pd.Series)\n",
    "ppw_non_ph=ppw_ph[0].nlargest(2).values.mean()"
   ]
  },
  {
   "cell_type": "code",
   "execution_count": 104,
   "metadata": {},
   "outputs": [],
   "source": [
    "gr_data2=data2.groupby(['month','mm']).agg({'energy':sum,'power':max}).reset_index()"
   ]
  },
  {
   "cell_type": "code",
   "execution_count": 105,
   "metadata": {},
   "outputs": [],
   "source": [
    "gr_data2=gr_data2.merge(ppw_ph.reset_index(),how='left').fillna(ppw_non_ph).rename(columns={0:'peak_power_ph','power':'max_power'})"
   ]
  },
  {
   "cell_type": "code",
   "execution_count": 106,
   "metadata": {},
   "outputs": [],
   "source": [
    "def get_top_n_avg(lis,n):\n",
    "    return np.mean(heapq.nlargest(n, lis))"
   ]
  },
  {
   "cell_type": "code",
   "execution_count": 107,
   "metadata": {},
   "outputs": [],
   "source": [
    "gr_data2['roll']=[window.to_list() for window in gr_data2['max_power'].rolling(window=12)]\n",
    "gr_data2['peak_power']=gr_data2['roll'].apply(lambda x: get_top_n_avg(x,2))\n",
    "gr_data2.drop(columns=['roll'],inplace=True)"
   ]
  },
  {
   "cell_type": "code",
   "execution_count": 11,
   "metadata": {},
   "outputs": [
    {
     "ename": "NameError",
     "evalue": "name 'params_BT1' is not defined",
     "output_type": "error",
     "traceback": [
      "\u001b[0;31m---------------------------------------------------------------------------\u001b[0m",
      "\u001b[0;31mNameError\u001b[0m                                 Traceback (most recent call last)",
      "\u001b[1;32m/Users/dguiraldes/Documents/ISCI/intro_smart_meters/chile_tariffs/test.ipynb Cell 7\u001b[0m in \u001b[0;36m<cell line: 1>\u001b[0;34m()\u001b[0m\n\u001b[0;32m----> <a href='vscode-notebook-cell:/Users/dguiraldes/Documents/ISCI/intro_smart_meters/chile_tariffs/test.ipynb#X45sZmlsZQ%3D%3D?line=0'>1</a>\u001b[0m c1\u001b[39m=\u001b[39mchiTariffs\u001b[39m.\u001b[39mBT1(data,params_BT1)\n",
      "\u001b[0;31mNameError\u001b[0m: name 'params_BT1' is not defined"
     ]
    }
   ],
   "source": [
    "c1=chiTariffs.BT1(data,params_BT1)"
   ]
  },
  {
   "cell_type": "code",
   "execution_count": null,
   "metadata": {},
   "outputs": [],
   "source": []
  },
  {
   "cell_type": "code",
   "execution_count": 10,
   "metadata": {},
   "outputs": [
    {
     "data": {
      "text/html": [
       "<div>\n",
       "<style scoped>\n",
       "    .dataframe tbody tr th:only-of-type {\n",
       "        vertical-align: middle;\n",
       "    }\n",
       "\n",
       "    .dataframe tbody tr th {\n",
       "        vertical-align: top;\n",
       "    }\n",
       "\n",
       "    .dataframe thead th {\n",
       "        text-align: right;\n",
       "    }\n",
       "</style>\n",
       "<table border=\"1\" class=\"dataframe\">\n",
       "  <thead>\n",
       "    <tr style=\"text-align: right;\">\n",
       "      <th></th>\n",
       "      <th>month</th>\n",
       "      <th>cfm</th>\n",
       "      <th>csp</th>\n",
       "      <th>tr</th>\n",
       "      <th>en</th>\n",
       "      <th>pw</th>\n",
       "      <th>bpw</th>\n",
       "      <th>pw_win</th>\n",
       "      <th>bpw_win</th>\n",
       "      <th>Total</th>\n",
       "    </tr>\n",
       "  </thead>\n",
       "  <tbody>\n",
       "    <tr>\n",
       "      <th>0</th>\n",
       "      <td>2013-01-01</td>\n",
       "      <td>684.73</td>\n",
       "      <td>182.814976</td>\n",
       "      <td>4600.603649</td>\n",
       "      <td>28397.859400</td>\n",
       "      <td>5641.353474</td>\n",
       "      <td>6595.014274</td>\n",
       "      <td>0.0</td>\n",
       "      <td>0.0</td>\n",
       "      <td>46102.375773</td>\n",
       "    </tr>\n",
       "    <tr>\n",
       "      <th>1</th>\n",
       "      <td>2013-02-01</td>\n",
       "      <td>684.73</td>\n",
       "      <td>193.863976</td>\n",
       "      <td>4878.655652</td>\n",
       "      <td>30114.173666</td>\n",
       "      <td>5982.306477</td>\n",
       "      <td>6993.604777</td>\n",
       "      <td>0.0</td>\n",
       "      <td>0.0</td>\n",
       "      <td>48847.334548</td>\n",
       "    </tr>\n",
       "    <tr>\n",
       "      <th>2</th>\n",
       "      <td>2013-03-01</td>\n",
       "      <td>684.73</td>\n",
       "      <td>243.679472</td>\n",
       "      <td>6132.280255</td>\n",
       "      <td>37852.344116</td>\n",
       "      <td>7519.526382</td>\n",
       "      <td>8790.688982</td>\n",
       "      <td>0.0</td>\n",
       "      <td>0.0</td>\n",
       "      <td>61223.249207</td>\n",
       "    </tr>\n",
       "    <tr>\n",
       "      <th>3</th>\n",
       "      <td>2013-04-01</td>\n",
       "      <td>684.73</td>\n",
       "      <td>184.194704</td>\n",
       "      <td>4635.324998</td>\n",
       "      <td>28612.181707</td>\n",
       "      <td>5683.929496</td>\n",
       "      <td>6644.787697</td>\n",
       "      <td>0.0</td>\n",
       "      <td>0.0</td>\n",
       "      <td>46445.148603</td>\n",
       "    </tr>\n",
       "    <tr>\n",
       "      <th>4</th>\n",
       "      <td>2013-05-01</td>\n",
       "      <td>684.73</td>\n",
       "      <td>154.378152</td>\n",
       "      <td>3884.980897</td>\n",
       "      <td>23980.579442</td>\n",
       "      <td>4763.842346</td>\n",
       "      <td>5569.161446</td>\n",
       "      <td>0.0</td>\n",
       "      <td>0.0</td>\n",
       "      <td>39037.672283</td>\n",
       "    </tr>\n",
       "    <tr>\n",
       "      <th>5</th>\n",
       "      <td>2013-06-01</td>\n",
       "      <td>684.73</td>\n",
       "      <td>152.364948</td>\n",
       "      <td>3834.317904</td>\n",
       "      <td>23667.855141</td>\n",
       "      <td>4701.718356</td>\n",
       "      <td>5496.535506</td>\n",
       "      <td>0.0</td>\n",
       "      <td>0.0</td>\n",
       "      <td>38537.521855</td>\n",
       "    </tr>\n",
       "    <tr>\n",
       "      <th>6</th>\n",
       "      <td>2013-07-01</td>\n",
       "      <td>684.73</td>\n",
       "      <td>137.744708</td>\n",
       "      <td>3466.394383</td>\n",
       "      <td>21396.796553</td>\n",
       "      <td>4250.563074</td>\n",
       "      <td>4969.113224</td>\n",
       "      <td>0.0</td>\n",
       "      <td>0.0</td>\n",
       "      <td>34905.341942</td>\n",
       "    </tr>\n",
       "    <tr>\n",
       "      <th>7</th>\n",
       "      <td>2013-08-01</td>\n",
       "      <td>684.73</td>\n",
       "      <td>137.104628</td>\n",
       "      <td>3450.286543</td>\n",
       "      <td>21297.368693</td>\n",
       "      <td>4230.811314</td>\n",
       "      <td>4946.022464</td>\n",
       "      <td>0.0</td>\n",
       "      <td>0.0</td>\n",
       "      <td>34746.323642</td>\n",
       "    </tr>\n",
       "    <tr>\n",
       "      <th>8</th>\n",
       "      <td>2013-09-01</td>\n",
       "      <td>684.73</td>\n",
       "      <td>163.328096</td>\n",
       "      <td>4110.209409</td>\n",
       "      <td>25370.833440</td>\n",
       "      <td>5040.022114</td>\n",
       "      <td>5892.028914</td>\n",
       "      <td>0.0</td>\n",
       "      <td>0.0</td>\n",
       "      <td>41261.151973</td>\n",
       "    </tr>\n",
       "    <tr>\n",
       "      <th>9</th>\n",
       "      <td>2013-10-01</td>\n",
       "      <td>684.73</td>\n",
       "      <td>192.110868</td>\n",
       "      <td>4834.538060</td>\n",
       "      <td>29841.851757</td>\n",
       "      <td>5928.208591</td>\n",
       "      <td>6930.361741</td>\n",
       "      <td>0.0</td>\n",
       "      <td>0.0</td>\n",
       "      <td>48411.801017</td>\n",
       "    </tr>\n",
       "    <tr>\n",
       "      <th>10</th>\n",
       "      <td>2013-11-01</td>\n",
       "      <td>684.73</td>\n",
       "      <td>208.209896</td>\n",
       "      <td>5239.675807</td>\n",
       "      <td>32342.620274</td>\n",
       "      <td>6424.996710</td>\n",
       "      <td>7511.131010</td>\n",
       "      <td>0.0</td>\n",
       "      <td>0.0</td>\n",
       "      <td>52411.363697</td>\n",
       "    </tr>\n",
       "    <tr>\n",
       "      <th>11</th>\n",
       "      <td>2013-12-01</td>\n",
       "      <td>684.73</td>\n",
       "      <td>191.246760</td>\n",
       "      <td>4812.792480</td>\n",
       "      <td>29707.624170</td>\n",
       "      <td>5901.543720</td>\n",
       "      <td>6899.189220</td>\n",
       "      <td>0.0</td>\n",
       "      <td>0.0</td>\n",
       "      <td>48197.126350</td>\n",
       "    </tr>\n",
       "  </tbody>\n",
       "</table>\n",
       "</div>"
      ],
      "text/plain": [
       "        month     cfm         csp           tr            en           pw  \\\n",
       "0  2013-01-01  684.73  182.814976  4600.603649  28397.859400  5641.353474   \n",
       "1  2013-02-01  684.73  193.863976  4878.655652  30114.173666  5982.306477   \n",
       "2  2013-03-01  684.73  243.679472  6132.280255  37852.344116  7519.526382   \n",
       "3  2013-04-01  684.73  184.194704  4635.324998  28612.181707  5683.929496   \n",
       "4  2013-05-01  684.73  154.378152  3884.980897  23980.579442  4763.842346   \n",
       "5  2013-06-01  684.73  152.364948  3834.317904  23667.855141  4701.718356   \n",
       "6  2013-07-01  684.73  137.744708  3466.394383  21396.796553  4250.563074   \n",
       "7  2013-08-01  684.73  137.104628  3450.286543  21297.368693  4230.811314   \n",
       "8  2013-09-01  684.73  163.328096  4110.209409  25370.833440  5040.022114   \n",
       "9  2013-10-01  684.73  192.110868  4834.538060  29841.851757  5928.208591   \n",
       "10 2013-11-01  684.73  208.209896  5239.675807  32342.620274  6424.996710   \n",
       "11 2013-12-01  684.73  191.246760  4812.792480  29707.624170  5901.543720   \n",
       "\n",
       "            bpw  pw_win  bpw_win         Total  \n",
       "0   6595.014274     0.0      0.0  46102.375773  \n",
       "1   6993.604777     0.0      0.0  48847.334548  \n",
       "2   8790.688982     0.0      0.0  61223.249207  \n",
       "3   6644.787697     0.0      0.0  46445.148603  \n",
       "4   5569.161446     0.0      0.0  39037.672283  \n",
       "5   5496.535506     0.0      0.0  38537.521855  \n",
       "6   4969.113224     0.0      0.0  34905.341942  \n",
       "7   4946.022464     0.0      0.0  34746.323642  \n",
       "8   5892.028914     0.0      0.0  41261.151973  \n",
       "9   6930.361741     0.0      0.0  48411.801017  \n",
       "10  7511.131010     0.0      0.0  52411.363697  \n",
       "11  6899.189220     0.0      0.0  48197.126350  "
      ]
     },
     "execution_count": 10,
     "metadata": {},
     "output_type": "execute_result"
    }
   ],
   "source": [
    "c1.price()"
   ]
  },
  {
   "cell_type": "code",
   "execution_count": 6,
   "metadata": {},
   "outputs": [],
   "source": [
    "data['date']=data['tstp'].dt.date.apply(lambda dt: dt.replace(day=1))"
   ]
  },
  {
   "cell_type": "code",
   "execution_count": 42,
   "metadata": {},
   "outputs": [],
   "source": [
    "monthly_data=data.groupby(['date']).sum().reset_index()"
   ]
  },
  {
   "cell_type": "code",
   "execution_count": 73,
   "metadata": {},
   "outputs": [],
   "source": [
    "monthly_data.rename(columns={'date':'month','energy(kWh/hh)':'energy'},inplace=True)"
   ]
  },
  {
   "cell_type": "code",
   "execution_count": null,
   "metadata": {},
   "outputs": [],
   "source": []
  }
 ],
 "metadata": {
  "kernelspec": {
   "display_name": "Python 3.9.12 ('base')",
   "language": "python",
   "name": "python3"
  },
  "language_info": {
   "codemirror_mode": {
    "name": "ipython",
    "version": 3
   },
   "file_extension": ".py",
   "mimetype": "text/x-python",
   "name": "python",
   "nbconvert_exporter": "python",
   "pygments_lexer": "ipython3",
   "version": "3.9.12"
  },
  "orig_nbformat": 4,
  "vscode": {
   "interpreter": {
    "hash": "3b20e6db2ef77b6845bd54d585dde1ccd4a5b3de0476190c760eec548e3b0c4b"
   }
  }
 },
 "nbformat": 4,
 "nbformat_minor": 2
}
